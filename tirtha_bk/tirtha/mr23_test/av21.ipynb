{
 "cells": [
  {
   "cell_type": "code",
   "execution_count": 2,
   "id": "414a52b3",
   "metadata": {},
   "outputs": [],
   "source": [
    "import sys\n",
    "import os\n",
    "from datetime import datetime\n",
    "\n",
    "\n",
    "# Add the workspace root to sys.path so Python can find tirtha_bk\n",
    "sys.path.append(os.path.abspath(\"/home/tirtha/projects/tirtha-public/\"))"
   ]
  },
  {
   "cell_type": "code",
   "execution_count": 12,
   "id": "abcd3290",
   "metadata": {},
   "outputs": [],
   "source": [
    "# from multiprocessing.pool import RUN\n",
    "from tirtha_bk.tirtha.alicevision import AliceVision\n",
    "from tirtha_bk.tirtha.utils import Logger\n",
    "\n",
    "import os\n",
    "\n",
    "log_dir = \"./AlagumGanesh/logs_mr23\"\n",
    "os.makedirs(log_dir, exist_ok=True)\n",
    "\n",
    "logger = Logger(\n",
    "    log_path=log_dir,\n",
    "    name=\"alicevision_mr23\",\n",
    ")\n",
    "\n",
    "MR_VER = \"21\"\n",
    "\n",
    "# RUN_DIR = f\"aV{MR_VER}_{datetime.now().strftime('%Y%m%d_%H%M%S')}\"\n",
    "RUN_DIR = \"aV21_20250708_160408\"  # For testing purposes, using a fixed directory\n",
    "\n",
    "av = AliceVision(\n",
    "    exec_path=f\"../../../tirtha_bk/bin{MR_VER}\",  # Update this!\n",
    "    input_dir=\"./AlagumGanesh/images/use/\",  # Images folder\n",
    "    cache_dir=f\"./AlagumGanesh/output_mr23/{RUN_DIR}\",  # Output directory\n",
    "    logger=logger,\n",
    ")"
   ]
  },
  {
   "cell_type": "code",
   "execution_count": 13,
   "id": "aafacc88",
   "metadata": {},
   "outputs": [
    {
     "data": {
      "text/plain": [
       "PosixPath('/home/faiz/TirthaProject/tirtha-public/tirtha_bk/tirtha/mr23_test/AlagumGanesh/output_mr23/aV21_20250708_160408')"
      ]
     },
     "execution_count": 13,
     "metadata": {},
     "output_type": "execute_result"
    }
   ],
   "source": [
    "av.cache_dir"
   ]
  },
  {
   "cell_type": "code",
   "execution_count": 14,
   "id": "e23da48e",
   "metadata": {},
   "outputs": [],
   "source": [
    "import os\n",
    "\n",
    "os.environ[\"ALICEVISION_ROOT\"] = (\n",
    "    f\"/home/tirtha/projects/tirtha-public/tirtha_bk/bin{MR_VER}/\"\n",
    ")"
   ]
  },
  {
   "cell_type": "code",
   "execution_count": 6,
   "id": "9b38a8ec",
   "metadata": {},
   "outputs": [],
   "source": [
    "# NOTE: Steps\n",
    "# self.cameraInit()\n",
    "# self.featureExtraction()\n",
    "# self.imageMatching()\n",
    "# self.featureMatching()\n",
    "# self.structureFromMotion()\n",
    "# self.sfmTransform(transformation=center_image) # TODO: Ignore.\n",
    "# self.sfmRotate(rotation=rotation, orientMesh=orientMesh) # TODO: Ignore.\n",
    "# self.prepareDenseScene()\n",
    "# self.depthMapEstimation()\n",
    "# self.depthMapFiltering()\n",
    "# self.meshing(estimateSpaceMinObservationAngle=estimateSpaceMinObservationAngle)\n",
    "# self.meshFiltering()\n",
    "# self.meshDecimate()\n",
    "# # self.meshResampling()\n",
    "# if denoise:\n",
    "#     self.meshDenoising()\n",
    "# self.texturing(denoise=denoise)\n"
   ]
  },
  {
   "cell_type": "code",
   "execution_count": 7,
   "id": "75c8f5cf",
   "metadata": {},
   "outputs": [],
   "source": [
    "av.cameraInit()"
   ]
  },
  {
   "cell_type": "code",
   "execution_count": 8,
   "id": "03051437",
   "metadata": {},
   "outputs": [],
   "source": [
    "av.featureExtraction()  # NOTE: Uses CUDA"
   ]
  },
  {
   "cell_type": "code",
   "execution_count": 9,
   "id": "61bf129a",
   "metadata": {},
   "outputs": [],
   "source": [
    "av.imageMatching()"
   ]
  },
  {
   "cell_type": "code",
   "execution_count": 10,
   "id": "5050bb45",
   "metadata": {},
   "outputs": [],
   "source": [
    "av.featureMatching()"
   ]
  },
  {
   "cell_type": "code",
   "execution_count": 10,
   "id": "fe423620",
   "metadata": {},
   "outputs": [],
   "source": [
    "av.structureFromMotion()"
   ]
  },
  {
   "cell_type": "code",
   "execution_count": 11,
   "id": "6b62fe2d",
   "metadata": {},
   "outputs": [],
   "source": [
    "av.sfmTransform()"
   ]
  },
  {
   "cell_type": "code",
   "execution_count": 12,
   "id": "4b1c53f0",
   "metadata": {},
   "outputs": [],
   "source": [
    "av.sfmRotate()"
   ]
  },
  {
   "cell_type": "code",
   "execution_count": 13,
   "id": "1ead9d62",
   "metadata": {},
   "outputs": [],
   "source": [
    "av.prepareDenseScene()"
   ]
  },
  {
   "cell_type": "code",
   "execution_count": 15,
   "id": "b8ff8a74",
   "metadata": {},
   "outputs": [],
   "source": [
    "av.depthMapEstimation()  # NOTE: Uses CUDA"
   ]
  },
  {
   "cell_type": "code",
   "execution_count": 15,
   "id": "beef45f8",
   "metadata": {},
   "outputs": [],
   "source": [
    "av.depthMapFiltering()"
   ]
  },
  {
   "cell_type": "code",
   "execution_count": 16,
   "id": "a37750ff",
   "metadata": {},
   "outputs": [],
   "source": [
    "av.state[\"error\"] = False"
   ]
  },
  {
   "cell_type": "code",
   "execution_count": 17,
   "id": "9fe9d27c",
   "metadata": {},
   "outputs": [],
   "source": [
    "av.meshing()"
   ]
  },
  {
   "cell_type": "code",
   "execution_count": 18,
   "id": "0cfbde1b",
   "metadata": {},
   "outputs": [],
   "source": [
    "av.meshFiltering()"
   ]
  },
  {
   "cell_type": "code",
   "execution_count": 19,
   "id": "76800d49",
   "metadata": {},
   "outputs": [],
   "source": [
    "# av.meshDecimate() # NOTE: Skipping decimation for now"
   ]
  },
  {
   "cell_type": "code",
   "execution_count": 20,
   "id": "82fd8ae6",
   "metadata": {},
   "outputs": [],
   "source": [
    "av.texturing(useDecimated=False, denoise=False)"
   ]
  },
  {
   "cell_type": "code",
   "execution_count": null,
   "id": "77d72a8b",
   "metadata": {},
   "outputs": [],
   "source": []
  }
 ],
 "metadata": {
  "kernelspec": {
   "display_name": ".venv",
   "language": "python",
   "name": "python3"
  },
  "language_info": {
   "codemirror_mode": {
    "name": "ipython",
    "version": 3
   },
   "file_extension": ".py",
   "mimetype": "text/x-python",
   "name": "python",
   "nbconvert_exporter": "python",
   "pygments_lexer": "ipython3",
   "version": "3.12.3"
  }
 },
 "nbformat": 4,
 "nbformat_minor": 5
}
