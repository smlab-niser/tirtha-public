{
 "cells": [
  {
   "cell_type": "code",
   "execution_count": 1,
   "id": "414a52b3",
   "metadata": {},
   "outputs": [],
   "source": [
    "import sys\n",
    "import os\n",
    "from datetime import datetime\n",
    "\n",
    "\n",
    "# Add the workspace root to sys.path so Python can find tirtha_bk\n",
    "sys.path.append(os.path.abspath(\"/home/faiz/TirthaProject/tirtha-public/\"))"
   ]
  },
  {
   "cell_type": "code",
   "execution_count": 2,
   "id": "abcd3290",
   "metadata": {},
   "outputs": [],
   "source": [
    "# from multiprocessing.pool import RUN\n",
    "from tirtha_bk.tirtha.alicevision import AliceVision\n",
    "from tirtha_bk.tirtha.utils import Logger\n",
    "\n",
    "import os\n",
    "\n",
    "log_dir = \"./AlagumGanesh/logs_mr23\"\n",
    "os.makedirs(log_dir, exist_ok=True)\n",
    "\n",
    "logger = Logger(\n",
    "    log_path=log_dir,\n",
    "    name=\"alicevision_mr23\",\n",
    ")\n",
    "\n",
    "MR_VER = \"233\"\n",
    "\n",
    "RUN_DIR = (\n",
    "    f\"aV{MR_VER}_{datetime.now().strftime('%Y%m%d_%H%M%S')}\"  # Dynamic directory name\n",
    ")\n",
    "# RUN_DIR = \"20250707_144440\"  # For testing purposes, using a fixed directory\n",
    "\n",
    "av = AliceVision(\n",
    "    exec_path=\"/home/faiz/TirthaProject/tirtha-public/tirtha_bk/bin233\",  # Update this!\n",
    "    input_dir=\"./AlagumGanesh/images/use/\",  # Images folder\n",
    "    cache_dir=f\"./AlagumGanesh/output_mr23/{RUN_DIR}\",  # Output directory\n",
    "    logger=logger,\n",
    ")"
   ]
  },
  {
   "cell_type": "code",
   "execution_count": 3,
   "id": "aafacc88",
   "metadata": {},
   "outputs": [
    {
     "data": {
      "text/plain": [
       "PosixPath('AlagumGanesh/output_mr23/aV233_20250708_172538')"
      ]
     },
     "execution_count": 3,
     "metadata": {},
     "output_type": "execute_result"
    }
   ],
   "source": [
    "av.cache_dir"
   ]
  },
  {
   "cell_type": "code",
   "execution_count": 4,
   "id": "e23da48e",
   "metadata": {},
   "outputs": [],
   "source": [
    "import os\n",
    "\n",
    "os.environ[\"ALICEVISION_ROOT\"] = (\n",
    "    \"/home/faiz/TirthaProject/tirtha-public/tirtha_bk/bin233\"\n",
    ")"
   ]
  },
  {
   "cell_type": "code",
   "execution_count": 5,
   "id": "9b38a8ec",
   "metadata": {},
   "outputs": [],
   "source": [
    "# NOTE: Steps\n",
    "# self.cameraInit()\n",
    "# self.featureExtraction()\n",
    "# self.imageMatching()\n",
    "# self.featureMatching()\n",
    "# self.structureFromMotion()\n",
    "# self.sfmTransform(transformation=center_image) # TODO: Ignore.\n",
    "# self.sfmRotate(rotation=rotation, orientMesh=orientMesh) # TODO: Ignore.\n",
    "# self.prepareDenseScene()\n",
    "# self.depthMapEstimation()\n",
    "# self.depthMapFiltering()\n",
    "# self.meshing(estimateSpaceMinObservationAngle=estimateSpaceMinObservationAngle)\n",
    "# self.meshFiltering()\n",
    "# self.meshDecimate()\n",
    "# # self.meshResampling()\n",
    "# if denoise:\n",
    "#     self.meshDenoising()\n",
    "# self.texturing(denoise=denoise)\n"
   ]
  },
  {
   "cell_type": "code",
   "execution_count": 16,
   "id": "09888ea1",
   "metadata": {},
   "outputs": [],
   "source": [
    "!chmod 644 /home/faiz/TirthaProject/tirtha-public/tirtha_bk/bin231/share/aliceVision/config.ocio\n",
    "!chmod +x /home/faiz/TirthaProject/tirtha-public/tirtha_bk/bin231\n",
    "!chmod +x /home/faiz/TirthaProject/tirtha-public/tirtha_bk/bin231/share\n",
    "!chmod +x /home/faiz/TirthaProject/tirtha-public/tirtha_bk/bin231/share/aliceVision"
   ]
  },
  {
   "cell_type": "code",
   "execution_count": 7,
   "id": "75c8f5cf",
   "metadata": {},
   "outputs": [],
   "source": [
    "av.cameraInit()"
   ]
  },
  {
   "cell_type": "code",
   "execution_count": 8,
   "id": "03051437",
   "metadata": {},
   "outputs": [],
   "source": [
    "av.featureExtraction()  # NOTE: Uses CUDA"
   ]
  },
  {
   "cell_type": "code",
   "execution_count": 9,
   "id": "61bf129a",
   "metadata": {},
   "outputs": [],
   "source": [
    "av.imageMatching()"
   ]
  },
  {
   "cell_type": "code",
   "execution_count": 10,
   "id": "5050bb45",
   "metadata": {},
   "outputs": [],
   "source": [
    "av.featureMatching()"
   ]
  },
  {
   "cell_type": "code",
   "execution_count": 11,
   "id": "fe423620",
   "metadata": {},
   "outputs": [],
   "source": [
    "av.structureFromMotion()"
   ]
  },
  {
   "cell_type": "code",
   "execution_count": 12,
   "id": "6b62fe2d",
   "metadata": {},
   "outputs": [],
   "source": [
    "av.sfmTransform()"
   ]
  },
  {
   "cell_type": "code",
   "execution_count": 13,
   "id": "4b1c53f0",
   "metadata": {},
   "outputs": [],
   "source": [
    "av.sfmRotate()"
   ]
  },
  {
   "cell_type": "code",
   "execution_count": 14,
   "id": "1ead9d62",
   "metadata": {},
   "outputs": [],
   "source": [
    "av.prepareDenseScene()"
   ]
  },
  {
   "cell_type": "code",
   "execution_count": 17,
   "id": "b8ff8a74",
   "metadata": {},
   "outputs": [
    {
     "ename": "CalledProcessError",
     "evalue": "Command '/home/faiz/TirthaProject/tirtha-public/tirtha_bk/bin233/aliceVision_depthMapEstimation -o AlagumGanesh/output_mr23/aV233_20250708_172538/09_depthMapEstimation --verboseLevel info -i AlagumGanesh/output_mr23/aV233_20250708_172538/07_sfmRotate/sfmRota.abc --imagesFolder AlagumGanesh/output_mr23/aV233_20250708_172538/08_prepareDenseScene --nbGPUs 0 --rangeStart 20 --rangeSize 20' returned non-zero exit status 1.",
     "output_type": "error",
     "traceback": [
      "\u001b[31m---------------------------------------------------------------------------\u001b[39m",
      "\u001b[31mRemoteTraceback\u001b[39m                           Traceback (most recent call last)",
      "\u001b[31mRemoteTraceback\u001b[39m: \n\"\"\"\nTraceback (most recent call last):\n  File \"/usr/lib/python3.12/multiprocessing/pool.py\", line 125, in worker\n    result = (True, func(*args, **kwds))\n                    ^^^^^^^^^^^^^^^^^^^\n  File \"/usr/lib/python3.12/multiprocessing/pool.py\", line 51, in starmapstar\n    return list(itertools.starmap(args[0], args[1]))\n           ^^^^^^^^^^^^^^^^^^^^^^^^^^^^^^^^^^^^^^^^^\n  File \"/home/faiz/TirthaProject/tirtha-public/tirtha_bk/tirtha/alicevision.py\", line 266, in _serialRunner\n    raise error\n  File \"/home/faiz/TirthaProject/tirtha-public/tirtha_bk/tirtha/alicevision.py\", line 240, in _serialRunner\n    output = check_output(cmd, shell=True, stderr=STDOUT)\n             ^^^^^^^^^^^^^^^^^^^^^^^^^^^^^^^^^^^^^^^^^^^^\n  File \"/usr/lib/python3.12/subprocess.py\", line 466, in check_output\n    return run(*popenargs, stdout=PIPE, timeout=timeout, check=True,\n           ^^^^^^^^^^^^^^^^^^^^^^^^^^^^^^^^^^^^^^^^^^^^^^^^^^^^^^^^^\n  File \"/usr/lib/python3.12/subprocess.py\", line 571, in run\n    raise CalledProcessError(retcode, process.args,\nsubprocess.CalledProcessError: Command '/home/faiz/TirthaProject/tirtha-public/tirtha_bk/bin233/aliceVision_depthMapEstimation -o AlagumGanesh/output_mr23/aV233_20250708_172538/09_depthMapEstimation --verboseLevel info -i AlagumGanesh/output_mr23/aV233_20250708_172538/07_sfmRotate/sfmRota.abc --imagesFolder AlagumGanesh/output_mr23/aV233_20250708_172538/08_prepareDenseScene --nbGPUs 0 --rangeStart 20 --rangeSize 20' returned non-zero exit status 1.\ndepthMapEstimation.1 failed for Try 2 / 3. Check log file: /home/faiz/TirthaProject/tirtha-public/tirtha_bk/tirtha/mr23_test/AlagumGanesh/output_mr23/aV233_20250708_172538/09_depthMapEstimation/depthMapEstimation.1.log.\n\"\"\"",
      "\nThe above exception was the direct cause of the following exception:\n",
      "\u001b[31mCalledProcessError\u001b[39m                        Traceback (most recent call last)",
      "\u001b[36mCell\u001b[39m\u001b[36m \u001b[39m\u001b[32mIn[17]\u001b[39m\u001b[32m, line 1\u001b[39m\n\u001b[32m----> \u001b[39m\u001b[32m1\u001b[39m \u001b[43mav\u001b[49m\u001b[43m.\u001b[49m\u001b[43mdepthMapEstimation\u001b[49m\u001b[43m(\u001b[49m\u001b[43m)\u001b[49m  \u001b[38;5;66;03m# NOTE: Uses CUDA\u001b[39;00m\n",
      "\u001b[36mFile \u001b[39m\u001b[32m~/TirthaProject/tirtha-public/tirtha_bk/tirtha/alicevision.py:920\u001b[39m, in \u001b[36mAliceVision.depthMapEstimation\u001b[39m\u001b[34m(self, inputSfm, imagesFolders)\u001b[39m\n\u001b[32m    917\u001b[39m \u001b[38;5;66;03m# Add other arguments\u001b[39;00m\n\u001b[32m    918\u001b[39m cmd += \u001b[33m\"\u001b[39m\u001b[33m --nbGPUs 0\u001b[39m\u001b[33m\"\u001b[39m  \u001b[38;5;66;03m# NOTE: `nbGPUs` = 0 means, use all available GPUs\u001b[39;00m\n\u001b[32m--> \u001b[39m\u001b[32m920\u001b[39m \u001b[38;5;28;43mself\u001b[39;49m\u001b[43m.\u001b[49m\u001b[43m_parallelRunner\u001b[49m\u001b[43m(\u001b[49m\u001b[43mcmd\u001b[49m\u001b[43m,\u001b[49m\u001b[43m \u001b[49m\u001b[43mout_path\u001b[49m\u001b[43m,\u001b[49m\u001b[43m \u001b[49m\u001b[33;43m\"\u001b[39;49m\u001b[33;43mdepthMapEstimation\u001b[39;49m\u001b[33;43m\"\u001b[39;49m\u001b[43m)\u001b[49m\n",
      "\u001b[36mFile \u001b[39m\u001b[32m~/TirthaProject/tirtha-public/tirtha_bk/tirtha/alicevision.py:307\u001b[39m, in \u001b[36mAliceVision._parallelRunner\u001b[39m\u001b[34m(self, cmd, log_path, caller)\u001b[39m\n\u001b[32m    304\u001b[39m cmds_and_logs = \u001b[38;5;28mlist\u001b[39m(\u001b[38;5;28mzip\u001b[39m(cmds, logs))\n\u001b[32m    306\u001b[39m \u001b[38;5;28;01mwith\u001b[39;00m Pool(\u001b[38;5;28mself\u001b[39m.cpu_count) \u001b[38;5;28;01mas\u001b[39;00m pool:\n\u001b[32m--> \u001b[39m\u001b[32m307\u001b[39m     \u001b[43mpool\u001b[49m\u001b[43m.\u001b[49m\u001b[43mstarmap\u001b[49m\u001b[43m(\u001b[49m\u001b[38;5;28;43mself\u001b[39;49m\u001b[43m.\u001b[49m\u001b[43m_serialRunner\u001b[49m\u001b[43m,\u001b[49m\u001b[43m \u001b[49m\u001b[43mcmds_and_logs\u001b[49m\u001b[43m)\u001b[49m\n",
      "\u001b[36mFile \u001b[39m\u001b[32m/usr/lib/python3.12/multiprocessing/pool.py:375\u001b[39m, in \u001b[36mPool.starmap\u001b[39m\u001b[34m(self, func, iterable, chunksize)\u001b[39m\n\u001b[32m    369\u001b[39m \u001b[38;5;28;01mdef\u001b[39;00m\u001b[38;5;250m \u001b[39m\u001b[34mstarmap\u001b[39m(\u001b[38;5;28mself\u001b[39m, func, iterable, chunksize=\u001b[38;5;28;01mNone\u001b[39;00m):\n\u001b[32m    370\u001b[39m \u001b[38;5;250m    \u001b[39m\u001b[33;03m'''\u001b[39;00m\n\u001b[32m    371\u001b[39m \u001b[33;03m    Like `map()` method but the elements of the `iterable` are expected to\u001b[39;00m\n\u001b[32m    372\u001b[39m \u001b[33;03m    be iterables as well and will be unpacked as arguments. Hence\u001b[39;00m\n\u001b[32m    373\u001b[39m \u001b[33;03m    `func` and (a, b) becomes func(a, b).\u001b[39;00m\n\u001b[32m    374\u001b[39m \u001b[33;03m    '''\u001b[39;00m\n\u001b[32m--> \u001b[39m\u001b[32m375\u001b[39m     \u001b[38;5;28;01mreturn\u001b[39;00m \u001b[38;5;28;43mself\u001b[39;49m\u001b[43m.\u001b[49m\u001b[43m_map_async\u001b[49m\u001b[43m(\u001b[49m\u001b[43mfunc\u001b[49m\u001b[43m,\u001b[49m\u001b[43m \u001b[49m\u001b[43miterable\u001b[49m\u001b[43m,\u001b[49m\u001b[43m \u001b[49m\u001b[43mstarmapstar\u001b[49m\u001b[43m,\u001b[49m\u001b[43m \u001b[49m\u001b[43mchunksize\u001b[49m\u001b[43m)\u001b[49m\u001b[43m.\u001b[49m\u001b[43mget\u001b[49m\u001b[43m(\u001b[49m\u001b[43m)\u001b[49m\n",
      "\u001b[36mFile \u001b[39m\u001b[32m/usr/lib/python3.12/multiprocessing/pool.py:774\u001b[39m, in \u001b[36mApplyResult.get\u001b[39m\u001b[34m(self, timeout)\u001b[39m\n\u001b[32m    772\u001b[39m     \u001b[38;5;28;01mreturn\u001b[39;00m \u001b[38;5;28mself\u001b[39m._value\n\u001b[32m    773\u001b[39m \u001b[38;5;28;01melse\u001b[39;00m:\n\u001b[32m--> \u001b[39m\u001b[32m774\u001b[39m     \u001b[38;5;28;01mraise\u001b[39;00m \u001b[38;5;28mself\u001b[39m._value\n",
      "\u001b[31mCalledProcessError\u001b[39m: Command '/home/faiz/TirthaProject/tirtha-public/tirtha_bk/bin233/aliceVision_depthMapEstimation -o AlagumGanesh/output_mr23/aV233_20250708_172538/09_depthMapEstimation --verboseLevel info -i AlagumGanesh/output_mr23/aV233_20250708_172538/07_sfmRotate/sfmRota.abc --imagesFolder AlagumGanesh/output_mr23/aV233_20250708_172538/08_prepareDenseScene --nbGPUs 0 --rangeStart 20 --rangeSize 20' returned non-zero exit status 1.",
      "depthMapEstimation.1 failed for Try 2 / 3. Check log file: /home/faiz/TirthaProject/tirtha-public/tirtha_bk/tirtha/mr23_test/AlagumGanesh/output_mr23/aV233_20250708_172538/09_depthMapEstimation/depthMapEstimation.1.log."
     ]
    }
   ],
   "source": [
    "av.depthMapEstimation()  # NOTE: Uses CUDA"
   ]
  },
  {
   "cell_type": "code",
   "execution_count": null,
   "id": "beef45f8",
   "metadata": {},
   "outputs": [],
   "source": [
    "av.depthMapFiltering()"
   ]
  },
  {
   "cell_type": "code",
   "execution_count": null,
   "id": "a37750ff",
   "metadata": {},
   "outputs": [],
   "source": [
    "# av.state[\"error\"] = False"
   ]
  },
  {
   "cell_type": "code",
   "execution_count": null,
   "id": "9fe9d27c",
   "metadata": {},
   "outputs": [],
   "source": [
    "av.meshing()"
   ]
  },
  {
   "cell_type": "code",
   "execution_count": null,
   "id": "0cfbde1b",
   "metadata": {},
   "outputs": [],
   "source": [
    "av.meshFiltering()"
   ]
  },
  {
   "cell_type": "code",
   "execution_count": null,
   "id": "76800d49",
   "metadata": {},
   "outputs": [],
   "source": [
    "# av.meshDecimate() # NOTE: Skipping decimation for now"
   ]
  },
  {
   "cell_type": "code",
   "execution_count": null,
   "id": "82fd8ae6",
   "metadata": {},
   "outputs": [],
   "source": [
    "av.texturing(useDecimated=False, denoise=False)"
   ]
  },
  {
   "cell_type": "code",
   "execution_count": null,
   "id": "77d72a8b",
   "metadata": {},
   "outputs": [],
   "source": []
  }
 ],
 "metadata": {
  "kernelspec": {
   "display_name": ".venv",
   "language": "python",
   "name": "python3"
  },
  "language_info": {
   "codemirror_mode": {
    "name": "ipython",
    "version": 3
   },
   "file_extension": ".py",
   "mimetype": "text/x-python",
   "name": "python",
   "nbconvert_exporter": "python",
   "pygments_lexer": "ipython3",
   "version": "3.12.3"
  }
 },
 "nbformat": 4,
 "nbformat_minor": 5
}
